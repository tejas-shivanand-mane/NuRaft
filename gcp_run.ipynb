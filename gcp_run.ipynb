{
 "cells": [
  {
   "cell_type": "code",
   "execution_count": 1,
   "id": "2ef863a4-aabc-42f5-b276-30920b9a8567",
   "metadata": {},
   "outputs": [],
   "source": [
    "import time\n",
    "import re\n",
    "import pylab as pl\n",
    "import numpy as np\n",
    "import pylab as pl\n",
    "\n",
    "from datetime import datetime, timedelta\n",
    "\n",
    "import subprocess\n",
    "\n",
    "import os\n",
    "import pandas as pd\n",
    "\n",
    "import concurrent.futures\n",
    "\n",
    "\n",
    "from joblib import Parallel, delayed\n",
    "import shutil\n",
    "\n",
    "\n",
    "from concurrent.futures import ThreadPoolExecutor, ProcessPoolExecutor"
   ]
  },
  {
   "cell_type": "code",
   "execution_count": 2,
   "id": "646ea592-d726-4183-aab2-66718485647c",
   "metadata": {},
   "outputs": [
    {
     "name": "stderr",
     "output_type": "stream",
     "text": [
      "Deleted [https://www.googleapis.com/compute/v1/projects/ucr-ursa-major-lesani-lab/zones/us-central1-c/instances/nuraft-000].\n",
      "Deleted [https://www.googleapis.com/compute/v1/projects/ucr-ursa-major-lesani-lab/zones/us-central1-c/instances/nuraft-001].\n",
      "Deleted [https://www.googleapis.com/compute/v1/projects/ucr-ursa-major-lesani-lab/zones/us-central1-c/instances/nuraft-002].\n",
      "Deleted [https://www.googleapis.com/compute/v1/projects/ucr-ursa-major-lesani-lab/zones/us-central1-c/instances/nuraft-003].\n"
     ]
    },
    {
     "data": {
      "text/plain": [
       "0"
      ]
     },
     "execution_count": 2,
     "metadata": {},
     "output_type": "execute_result"
    }
   ],
   "source": [
    "os.system('gcloud compute instances delete --zone=us-central1-c --quiet $(gcloud compute instances list --format=\"value(name)\")')\n"
   ]
  },
  {
   "cell_type": "code",
   "execution_count": 3,
   "id": "4a15378e-337f-4c45-99e9-953834a8195c",
   "metadata": {},
   "outputs": [],
   "source": [
    "gcp_username = 'tejas'"
   ]
  },
  {
   "cell_type": "code",
   "execution_count": 4,
   "id": "1375d8ac-77ce-45de-a143-510bbdac2a6b",
   "metadata": {},
   "outputs": [],
   "source": [
    "num_nodes = 8"
   ]
  },
  {
   "cell_type": "code",
   "execution_count": 5,
   "id": "1bfb4ee4-81fa-41ef-b4f1-f90b1e06281b",
   "metadata": {},
   "outputs": [],
   "source": [
    "experiment = 'set_'+str(num_nodes)+'nodes'"
   ]
  },
  {
   "cell_type": "code",
   "execution_count": 6,
   "id": "986745af-44b6-4858-bf12-fdf005eb1f6c",
   "metadata": {},
   "outputs": [
    {
     "name": "stderr",
     "output_type": "stream",
     "text": [
      "Created [https://www.googleapis.com/compute/v1/projects/ucr-ursa-major-lesani-lab/zones/us-central1-c/instances/nuraft-006].\n"
     ]
    },
    {
     "name": "stdout",
     "output_type": "stream",
     "text": [
      "NAME        ZONE           MACHINE_TYPE  PREEMPTIBLE  INTERNAL_IP  EXTERNAL_IP    STATUS\n",
      "nuraft-006  us-central1-c  e2-highcpu-4               10.128.0.63  35.224.146.14  RUNNING\n"
     ]
    },
    {
     "name": "stderr",
     "output_type": "stream",
     "text": [
      "Created [https://www.googleapis.com/compute/v1/projects/ucr-ursa-major-lesani-lab/zones/us-central1-c/instances/nuraft-005].\n",
      "Created [https://www.googleapis.com/compute/v1/projects/ucr-ursa-major-lesani-lab/zones/us-central1-c/instances/nuraft-003].\n"
     ]
    },
    {
     "name": "stdout",
     "output_type": "stream",
     "text": [
      "NAME        ZONE           MACHINE_TYPE  PREEMPTIBLE  INTERNAL_IP    EXTERNAL_IP  STATUS\n",
      "nuraft-005  us-central1-c  e2-highcpu-4               10.128.15.237  34.46.50.22  RUNNING\n"
     ]
    },
    {
     "name": "stderr",
     "output_type": "stream",
     "text": [
      "Created [https://www.googleapis.com/compute/v1/projects/ucr-ursa-major-lesani-lab/zones/us-central1-c/instances/nuraft-004].\n",
      "Created [https://www.googleapis.com/compute/v1/projects/ucr-ursa-major-lesani-lab/zones/us-central1-c/instances/nuraft-001].\n"
     ]
    },
    {
     "name": "stdout",
     "output_type": "stream",
     "text": [
      "NAME        ZONE           MACHINE_TYPE  PREEMPTIBLE  INTERNAL_IP    EXTERNAL_IP     STATUS\n",
      "nuraft-003  us-central1-c  e2-highcpu-4               10.128.15.235  34.123.137.203  RUNNING\n"
     ]
    },
    {
     "name": "stderr",
     "output_type": "stream",
     "text": [
      "Created [https://www.googleapis.com/compute/v1/projects/ucr-ursa-major-lesani-lab/zones/us-central1-c/instances/nuraft-002].\n",
      "Created [https://www.googleapis.com/compute/v1/projects/ucr-ursa-major-lesani-lab/zones/us-central1-c/instances/nuraft-000].\n"
     ]
    },
    {
     "name": "stdout",
     "output_type": "stream",
     "text": [
      "NAME        ZONE           MACHINE_TYPE  PREEMPTIBLE  INTERNAL_IP    EXTERNAL_IP    STATUS\n",
      "nuraft-004  us-central1-c  e2-highcpu-4               10.128.15.236  35.222.80.144  RUNNING\n",
      "NAME        ZONE           MACHINE_TYPE  PREEMPTIBLE  INTERNAL_IP    EXTERNAL_IP     STATUS\n",
      "nuraft-001  us-central1-c  e2-highcpu-4               10.128.15.194  34.133.142.103  RUNNING\n",
      "NAME        ZONE           MACHINE_TYPE  PREEMPTIBLE  INTERNAL_IP    EXTERNAL_IP   STATUS\n",
      "nuraft-000  us-central1-c  e2-highcpu-4               10.128.15.199  34.41.232.84  RUNNING\n",
      "NAME        ZONE           MACHINE_TYPE  PREEMPTIBLE  INTERNAL_IP    EXTERNAL_IP  STATUS\n",
      "nuraft-002  us-central1-c  e2-highcpu-4               10.128.15.193  34.31.0.104  RUNNING\n"
     ]
    },
    {
     "name": "stderr",
     "output_type": "stream",
     "text": [
      "Created [https://www.googleapis.com/compute/v1/projects/ucr-ursa-major-lesani-lab/zones/us-central1-c/instances/nuraft-007].\n"
     ]
    },
    {
     "name": "stdout",
     "output_type": "stream",
     "text": [
      "NAME        ZONE           MACHINE_TYPE  PREEMPTIBLE  INTERNAL_IP    EXTERNAL_IP  STATUS\n",
      "nuraft-007  us-central1-c  e2-highcpu-4               10.128.15.234  34.55.20.70  RUNNING\n"
     ]
    }
   ],
   "source": [
    "\n",
    "commands  = []\n",
    "\n",
    "\n",
    "\n",
    "for i in range(num_nodes):\n",
    "    cmd =  'gcloud compute instances create nuraft-'+f\"{i:03}\"+' --project=ucr-ursa-major-lesani-lab \\\n",
    "    --zone=us-central1-c \\\n",
    "    --machine-type=e2-highcpu-4 \\\n",
    "    --network-interface=network-tier=PREMIUM,stack-type=IPV4_ONLY,subnet=default \\\n",
    "    --can-ip-forward \\\n",
    "    --maintenance-policy=MIGRATE \\\n",
    "    --provisioning-model=STANDARD \\\n",
    "    --service-account=961693926925-compute@developer.gserviceaccount.com \\\n",
    "    --scopes=https://www.googleapis.com/auth/devstorage.read_only,https://www.googleapis.com/auth/logging.write,https://www.googleapis.com/auth/monitoring.write,https://www.googleapis.com/auth/service.management.readonly,https://www.googleapis.com/auth/servicecontrol,https://www.googleapis.com/auth/trace.append \\\n",
    "    --tags=http-server,https-server \\\n",
    "    --create-disk=auto-delete=yes,boot=yes,device-name=instance-20250611-154850,disk-resource-policy=projects/ucr-ursa-major-lesani-lab/regions/us-central1/resourcePolicies/default-schedule-1,image=projects/ubuntu-os-cloud/global/images/ubuntu-minimal-2504-plucky-amd64-v20250606,mode=rw,size=10,type=pd-balanced \\\n",
    "    --no-shielded-secure-boot \\\n",
    "    --shielded-vtpm \\\n",
    "    --shielded-integrity-monitoring \\\n",
    "    --labels=goog-ec-src=vm_add-gcloud \\\n",
    "    --reservation-affinity=any'\n",
    "\n",
    "    commands.append(cmd)\n",
    "\n",
    "\n",
    "def run_command(command):\n",
    "    subprocess.call(command, shell=True)\n",
    "\n",
    "\n",
    "# Create a ThreadPoolExecutor or ProcessPoolExecutor, depending on your needs\n",
    "with concurrent.futures.ThreadPoolExecutor(max_workers=60) as executor:\n",
    "    # Submit each command to the executor for parallel execution\n",
    "    futures = [executor.submit(run_command, command) for command in commands]\n",
    "\n",
    "    # Wait for all tasks to complete\n",
    "    concurrent.futures.wait(futures)"
   ]
  },
  {
   "cell_type": "code",
   "execution_count": null,
   "id": "77bb0266-1d78-4ad4-ad85-796d6efbb461",
   "metadata": {},
   "outputs": [],
   "source": [
    "\n",
    "time.sleep(60)\n"
   ]
  },
  {
   "cell_type": "code",
   "execution_count": null,
   "id": "f2376f7a-f7bb-4de5-a110-3fa0a96470ba",
   "metadata": {},
   "outputs": [],
   "source": [
    "redirect = '>'\n",
    "\n",
    "os.system('gcloud compute instances list  --format=\"value(networkInterfaces[0].networkIP)\" '+\\\n",
    "          redirect+' gcp_ips.txt')"
   ]
  },
  {
   "cell_type": "code",
   "execution_count": null,
   "id": "7fdfe175-6aca-469a-8d2d-9e3c29ce3bfc",
   "metadata": {},
   "outputs": [],
   "source": [
    "f = open('gcp_ips.txt', \"r\")\n",
    "iplist = [line.strip() for line in f.readlines()]"
   ]
  },
  {
   "cell_type": "code",
   "execution_count": null,
   "id": "cd247936-e10c-4af3-a927-48a892de901e",
   "metadata": {},
   "outputs": [],
   "source": [
    "os.system('git add .; git commit -m \"test\"; git push -f origin HEAD:master')\n"
   ]
  },
  {
   "cell_type": "code",
   "execution_count": null,
   "id": "5b62e758-3630-4289-a1d2-6586f27a682d",
   "metadata": {},
   "outputs": [],
   "source": [
    "iplist"
   ]
  },
  {
   "cell_type": "code",
   "execution_count": null,
   "id": "b536cf2d-a602-4323-90fd-8ee0b0ed5f8e",
   "metadata": {},
   "outputs": [],
   "source": []
  },
  {
   "cell_type": "code",
   "execution_count": null,
   "id": "eb1e4c81-c443-4b06-b706-7e043c351498",
   "metadata": {
    "scrolled": true
   },
   "outputs": [],
   "source": [
    "def setup_remote(i):\n",
    "\n",
    "\n",
    "    command = 'gcloud compute ssh --zone \"'+'us-central1-c'+'\" \"nuraft-'+f\"{i:03}\"+'\" --project \"ucr-ursa-major-lesani-lab\" --command \"\\\n",
    "    sudo apt update > setup.log; \\\n",
    "    sudo apt -y install build-essential git cmake openssl libssl-dev libz-dev pkg-config libzstd-dev screen psmisc > setup.log;\\\n",
    "    git clone https://github.com/tejas-shivanand-mane/NuRaft.git\"'\n",
    "\n",
    "    print(command)\n",
    "\n",
    "    output = os.system(command)\n",
    "    print(output)\n"
   ]
  },
  {
   "cell_type": "code",
   "execution_count": null,
   "id": "45c4fbc3-407a-4fde-b6ac-8c50779381a3",
   "metadata": {
    "scrolled": true
   },
   "outputs": [],
   "source": [
    "results = Parallel(n_jobs=10)(delayed(setup_remote)(i) for i in range(len(iplist)) )\n",
    "\n",
    "\n",
    "print(results)  "
   ]
  },
  {
   "cell_type": "code",
   "execution_count": null,
   "id": "ff32de8b-d2be-493d-ac2c-0b47fbc89a17",
   "metadata": {},
   "outputs": [],
   "source": [
    "\n",
    "def compile_remote(i):\n",
    "\n",
    "  \n",
    "\n",
    "\n",
    "    command = 'gcloud compute ssh --zone \"'+'us-central1-c'+'\" \"nuraft-'+f\"{i:03}\"+'\" --project \"ucr-ursa-major-lesani-lab\" --command \"\\\n",
    "    cd NuRaft; \\\n",
    "    ./prepare.sh; cp CMakeListsUbuntu.txt CMakeLists.txt;\\\n",
    "    mkdir build; cd build; cmake .. ; make -j4 > make.log;\"'\n",
    "\n",
    "    print(command)\n",
    "\n",
    "    output = os.system(command)\n",
    "    print(output)\n",
    "\n"
   ]
  },
  {
   "cell_type": "code",
   "execution_count": null,
   "id": "cc62bae2-6168-46dd-85b0-606a6e64367c",
   "metadata": {
    "scrolled": true
   },
   "outputs": [],
   "source": [
    "results = Parallel(n_jobs=60)(delayed(compile_remote)(i) for i in range(len(iplist)) )\n",
    "\n",
    "\n",
    "print(results)  "
   ]
  },
  {
   "cell_type": "code",
   "execution_count": null,
   "id": "3dd26dd4-b196-4367-b368-a58cb0ebb8f6",
   "metadata": {},
   "outputs": [],
   "source": [
    "\n",
    "# def git_pull(i):\n",
    "\n",
    "  \n",
    "\n",
    "\n",
    "#     command = 'gcloud compute ssh --zone \"'+'us-central1-c'+'\" \"nuraft-'+f\"{i:03}\"+'\" --project \"ucr-ursa-major-lesani-lab\" --command \"\\\n",
    "#     cd NuRaft; \\\n",
    "#     git pull;\"'\n",
    "\n",
    "#     print(command)\n",
    "\n",
    "#     output = os.system(command)\n",
    "#     print(output)\n",
    "\n",
    "# results = Parallel(n_jobs=60)(delayed(git_pull)(i) for i in range(len(iplist)) )\n"
   ]
  },
  {
   "cell_type": "code",
   "execution_count": null,
   "id": "cbb65680-4502-490b-8bc6-b12b3ca13b55",
   "metadata": {},
   "outputs": [],
   "source": [
    "# results = Parallel(n_jobs=60)(delayed(compile_remote)(i) for i in range(len(iplist)) )\n",
    "\n",
    "\n",
    "# print(results)  "
   ]
  },
  {
   "cell_type": "code",
   "execution_count": null,
   "id": "97e7182a-c12a-446e-ae6a-86537ce4b890",
   "metadata": {},
   "outputs": [],
   "source": [
    "def run_project_server(i):\n",
    "    instance = f\"nuraft-{i:03}\"\n",
    "    ip = iplist[i]\n",
    "    session_name = f\"server{i}\"\n",
    "    log_file = f\"/home/tejas/NuRaft/build/examples/set_server{i}.log\"\n",
    "    command = f'''\n",
    "    gcloud compute ssh --zone \"us-central1-c\" \"{instance}\" --project \"ucr-ursa-major-lesani-lab\" --command \"\\\n",
    "    cd NuRaft/build/examples; \\\n",
    "    screen -dmS {session_name} bash -c './set_server {i+1} {ip}:10001 > {log_file} 2>&1'\"\n",
    "    '''\n",
    "    print(f\"Launching on instance {instance}\")\n",
    "    output = os.system(command)\n",
    "    print(f\"Return code: {output}\")\n",
    "\n",
    "\n",
    "\n",
    "\n",
    "# Run in parallel across all IPs\n",
    "# results = Parallel(n_jobs=60)(delayed(run_project_server)(i) for i in [0,1,2])\n"
   ]
  },
  {
   "cell_type": "code",
   "execution_count": null,
   "id": "0647ce41-7856-40a3-b7b2-9d2e5436f9fb",
   "metadata": {},
   "outputs": [],
   "source": [
    "# results = Parallel(n_jobs=60)(delayed(run_project_server)(i) for i in [0])\n",
    "for i in range(num_nodes-1):\n",
    "    run_project_server(i+1)\n",
    "\n",
    "    \n"
   ]
  },
  {
   "cell_type": "code",
   "execution_count": null,
   "id": "1c8f7d0f-0e53-4dea-a8c6-25d979fe085b",
   "metadata": {
    "scrolled": true
   },
   "outputs": [],
   "source": [
    "run_project_server(0)\n"
   ]
  },
  {
   "cell_type": "code",
   "execution_count": null,
   "id": "fe58bf02-0b42-4d83-8a75-72e9cc046dad",
   "metadata": {},
   "outputs": [],
   "source": [
    "time.sleep(100)"
   ]
  },
  {
   "cell_type": "code",
   "execution_count": null,
   "id": "e6047998-59bf-4c0f-80f6-156ca4733da0",
   "metadata": {},
   "outputs": [],
   "source": [
    "def kill_project_server(i):\n",
    "    instance = f\"nuraft-{i:03}\"\n",
    "    session_name = f\"server{i}\"\n",
    "    command = f'''\n",
    "    gcloud compute ssh --zone \"us-central1-c\" \"{instance}\" --project \"ucr-ursa-major-lesani-lab\" --command \"\\\n",
    "    screen -S {session_name} -X quit; sudo killall make\"\n",
    "    '''\n",
    "    print(f\"Killing server on instance {instance}\")\n",
    "    output = os.system(command)\n",
    "    print(f\"Return code: {output}\")\n",
    "\n",
    "results = Parallel(n_jobs=60)(delayed(kill_project_server)(i) for i in range(len(iplist)) )\n"
   ]
  },
  {
   "cell_type": "code",
   "execution_count": null,
   "id": "80b2052d-fe6f-4e46-b9e8-fac66af01454",
   "metadata": {},
   "outputs": [],
   "source": [
    "def copy_logs_to_local(i, local_dir=\"../nuraft_logs/\"+experiment):\n",
    "\n",
    "    if not os.path.exists(\"../nuraft_logs/\"+experiment):\n",
    "        os.mkdir(\"../nuraft_logs/\"+experiment)\n",
    "        \n",
    "    instance = f\"nuraft-{i:03}\"\n",
    "    remote_path = f\"/home/tejas/NuRaft/build/examples/set_server{i}.log\"\n",
    "    local_path = f\"{local_dir}/set_server{i}.log\"\n",
    "    \n",
    "    # Make sure local directory exists\n",
    "    os.makedirs(local_dir, exist_ok=True)\n",
    "    \n",
    "    command = f'gcloud compute scp --zone \"us-central1-c\" \"{instance}:{remote_path}\" \"{local_path}\" --project \"ucr-ursa-major-lesani-lab\"'\n",
    "    \n",
    "    print(f\"Copying log from {instance} to {local_path} ...\")\n",
    "    ret = os.system(command)\n",
    "    print(f\"Return code: {ret}\")\n",
    "\n",
    "# Example usage: copy logs for servers 0, 1, 2\n",
    "for i in range(num_nodes):\n",
    "    copy_logs_to_local(i)"
   ]
  },
  {
   "cell_type": "code",
   "execution_count": null,
   "id": "3a7237a9-3a5d-42db-ae77-586dc3996582",
   "metadata": {},
   "outputs": [],
   "source": [
    "\n"
   ]
  },
  {
   "cell_type": "code",
   "execution_count": null,
   "id": "3ab61392-4f69-4912-8faf-9761170971a4",
   "metadata": {},
   "outputs": [],
   "source": []
  },
  {
   "cell_type": "code",
   "execution_count": null,
   "id": "055e4fff-c22d-4805-8abf-f18302582223",
   "metadata": {},
   "outputs": [],
   "source": []
  }
 ],
 "metadata": {
  "kernelspec": {
   "display_name": "Python 3 (ipykernel)",
   "language": "python",
   "name": "python3"
  },
  "language_info": {
   "codemirror_mode": {
    "name": "ipython",
    "version": 3
   },
   "file_extension": ".py",
   "mimetype": "text/x-python",
   "name": "python",
   "nbconvert_exporter": "python",
   "pygments_lexer": "ipython3",
   "version": "3.12.10"
  }
 },
 "nbformat": 4,
 "nbformat_minor": 5
}
