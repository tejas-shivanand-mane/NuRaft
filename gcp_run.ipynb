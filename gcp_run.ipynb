{
 "cells": [
  {
   "cell_type": "code",
   "execution_count": 20,
   "id": "2ef863a4-aabc-42f5-b276-30920b9a8567",
   "metadata": {},
   "outputs": [],
   "source": [
    "import time\n",
    "import re\n",
    "import pylab as pl\n",
    "import numpy as np\n",
    "import pylab as pl\n",
    "\n",
    "from datetime import datetime, timedelta\n",
    "\n",
    "import subprocess\n",
    "\n",
    "import os\n",
    "import pandas as pd\n",
    "\n",
    "import concurrent.futures\n",
    "\n",
    "\n",
    "from joblib import Parallel, delayed\n",
    "import shutil\n",
    "\n",
    "\n",
    "from concurrent.futures import ThreadPoolExecutor, ProcessPoolExecutor"
   ]
  },
  {
   "cell_type": "code",
   "execution_count": 21,
   "id": "646ea592-d726-4183-aab2-66718485647c",
   "metadata": {},
   "outputs": [
    {
     "name": "stdout",
     "output_type": "stream",
     "text": [
      "[master a266283] test\n",
      " 1 file changed, 389 insertions(+), 10 deletions(-)\n"
     ]
    },
    {
     "name": "stderr",
     "output_type": "stream",
     "text": [
      "To github.com:tejas-shivanand-mane/NuRaft.git\n",
      "   59c4fdb..a266283  HEAD -> master\n"
     ]
    },
    {
     "data": {
      "text/plain": [
       "0"
      ]
     },
     "execution_count": 21,
     "metadata": {},
     "output_type": "execute_result"
    }
   ],
   "source": [
    "os.system('git add .; git commit -m \"test\"; git push -f origin HEAD:master')\n"
   ]
  },
  {
   "cell_type": "code",
   "execution_count": 22,
   "id": "4a15378e-337f-4c45-99e9-953834a8195c",
   "metadata": {},
   "outputs": [],
   "source": [
    "gcp_username = 'tejas'"
   ]
  },
  {
   "cell_type": "code",
   "execution_count": 23,
   "id": "1375d8ac-77ce-45de-a143-510bbdac2a6b",
   "metadata": {},
   "outputs": [],
   "source": [
    "num_nodes = 4"
   ]
  },
  {
   "cell_type": "code",
   "execution_count": 24,
   "id": "1bfb4ee4-81fa-41ef-b4f1-f90b1e06281b",
   "metadata": {},
   "outputs": [],
   "source": [
    "experiment = 'set_'+str(num_nodes)+'nodes'"
   ]
  },
  {
   "cell_type": "code",
   "execution_count": 25,
   "id": "986745af-44b6-4858-bf12-fdf005eb1f6c",
   "metadata": {},
   "outputs": [
    {
     "name": "stderr",
     "output_type": "stream",
     "text": [
      "Created [https://www.googleapis.com/compute/v1/projects/ucr-ursa-major-lesani-lab/zones/us-central1-c/instances/nuraft-003].\n"
     ]
    },
    {
     "name": "stdout",
     "output_type": "stream",
     "text": [
      "NAME        ZONE           MACHINE_TYPE  PREEMPTIBLE  INTERNAL_IP  EXTERNAL_IP    STATUS\n",
      "nuraft-003  us-central1-c  e2-highcpu-4               10.128.0.42  35.222.80.144  RUNNING\n"
     ]
    },
    {
     "name": "stderr",
     "output_type": "stream",
     "text": [
      "Created [https://www.googleapis.com/compute/v1/projects/ucr-ursa-major-lesani-lab/zones/us-central1-c/instances/nuraft-001].\n",
      "Created [https://www.googleapis.com/compute/v1/projects/ucr-ursa-major-lesani-lab/zones/us-central1-c/instances/nuraft-000].\n",
      "Created [https://www.googleapis.com/compute/v1/projects/ucr-ursa-major-lesani-lab/zones/us-central1-c/instances/nuraft-002].\n"
     ]
    },
    {
     "name": "stdout",
     "output_type": "stream",
     "text": [
      "NAME        ZONE           MACHINE_TYPE  PREEMPTIBLE  INTERNAL_IP  EXTERNAL_IP   STATUS\n",
      "nuraft-001  us-central1-c  e2-highcpu-4               10.128.0.47  34.41.232.84  RUNNING\n",
      "NAME        ZONE           MACHINE_TYPE  PREEMPTIBLE  INTERNAL_IP  EXTERNAL_IP     STATUS\n",
      "nuraft-000  us-central1-c  e2-highcpu-4               10.128.0.50  34.123.137.203  RUNNING\n",
      "NAME        ZONE           MACHINE_TYPE  PREEMPTIBLE  INTERNAL_IP  EXTERNAL_IP     STATUS\n",
      "nuraft-002  us-central1-c  e2-highcpu-4               10.128.0.51  34.134.156.149  RUNNING\n"
     ]
    }
   ],
   "source": [
    "\n",
    "commands  = []\n",
    "\n",
    "\n",
    "\n",
    "for i in range(num_nodes):\n",
    "    cmd =  'gcloud compute instances create nuraft-'+f\"{i:03}\"+' --project=ucr-ursa-major-lesani-lab \\\n",
    "    --zone=us-central1-c \\\n",
    "    --machine-type=e2-highcpu-4 \\\n",
    "    --network-interface=network-tier=PREMIUM,stack-type=IPV4_ONLY,subnet=default \\\n",
    "    --can-ip-forward \\\n",
    "    --maintenance-policy=MIGRATE \\\n",
    "    --provisioning-model=STANDARD \\\n",
    "    --service-account=961693926925-compute@developer.gserviceaccount.com \\\n",
    "    --scopes=https://www.googleapis.com/auth/devstorage.read_only,https://www.googleapis.com/auth/logging.write,https://www.googleapis.com/auth/monitoring.write,https://www.googleapis.com/auth/service.management.readonly,https://www.googleapis.com/auth/servicecontrol,https://www.googleapis.com/auth/trace.append \\\n",
    "    --tags=http-server,https-server \\\n",
    "    --create-disk=auto-delete=yes,boot=yes,device-name=instance-20250611-154850,disk-resource-policy=projects/ucr-ursa-major-lesani-lab/regions/us-central1/resourcePolicies/default-schedule-1,image=projects/ubuntu-os-cloud/global/images/ubuntu-minimal-2504-plucky-amd64-v20250606,mode=rw,size=10,type=pd-balanced \\\n",
    "    --no-shielded-secure-boot \\\n",
    "    --shielded-vtpm \\\n",
    "    --shielded-integrity-monitoring \\\n",
    "    --labels=goog-ec-src=vm_add-gcloud \\\n",
    "    --reservation-affinity=any'\n",
    "\n",
    "    commands.append(cmd)\n",
    "\n",
    "\n",
    "def run_command(command):\n",
    "    subprocess.call(command, shell=True)\n",
    "\n",
    "\n",
    "# Create a ThreadPoolExecutor or ProcessPoolExecutor, depending on your needs\n",
    "with concurrent.futures.ThreadPoolExecutor(max_workers=60) as executor:\n",
    "    # Submit each command to the executor for parallel execution\n",
    "    futures = [executor.submit(run_command, command) for command in commands]\n",
    "\n",
    "    # Wait for all tasks to complete\n",
    "    concurrent.futures.wait(futures)"
   ]
  },
  {
   "cell_type": "code",
   "execution_count": 26,
   "id": "f2376f7a-f7bb-4de5-a110-3fa0a96470ba",
   "metadata": {},
   "outputs": [
    {
     "data": {
      "text/plain": [
       "0"
      ]
     },
     "execution_count": 26,
     "metadata": {},
     "output_type": "execute_result"
    }
   ],
   "source": [
    "redirect = '>'\n",
    "\n",
    "os.system('gcloud compute instances list  --format=\"value(networkInterfaces[0].networkIP)\" '+\\\n",
    "          redirect+' gcp_ips.txt')"
   ]
  },
  {
   "cell_type": "code",
   "execution_count": 27,
   "id": "7fdfe175-6aca-469a-8d2d-9e3c29ce3bfc",
   "metadata": {},
   "outputs": [],
   "source": [
    "f = open('gcp_ips.txt', \"r\")\n",
    "iplist = [line.strip() for line in f.readlines()]"
   ]
  },
  {
   "cell_type": "code",
   "execution_count": 28,
   "id": "5b62e758-3630-4289-a1d2-6586f27a682d",
   "metadata": {},
   "outputs": [
    {
     "data": {
      "text/plain": [
       "['10.128.0.50', '10.128.0.47', '10.128.0.51', '10.128.0.42']"
      ]
     },
     "execution_count": 28,
     "metadata": {},
     "output_type": "execute_result"
    }
   ],
   "source": [
    "iplist"
   ]
  },
  {
   "cell_type": "code",
   "execution_count": 32,
   "id": "eb1e4c81-c443-4b06-b706-7e043c351498",
   "metadata": {
    "scrolled": true
   },
   "outputs": [],
   "source": [
    "def setup_remote(i):\n",
    "\n",
    "\n",
    "    command = 'gcloud compute ssh --zone \"'+'us-central1-c'+'\" \"nuraft-'+f\"{i:03}\"+'\" --project \"ucr-ursa-major-lesani-lab\" --command \"\\\n",
    "    sudo apt update > setup.log; \\\n",
    "    sudo apt -y install build-essential git cmake openssl libssl-dev libz-dev pkg-config libzstd-dev screen psmisc > setup.log;\\\n",
    "    git clone https://github.com/tejas-shivanand-mane/NuRaft.git\"'\n",
    "\n",
    "    print(command)\n",
    "\n",
    "    output = os.system(command)\n",
    "    print(output)\n"
   ]
  },
  {
   "cell_type": "code",
   "execution_count": 33,
   "id": "45c4fbc3-407a-4fde-b6ac-8c50779381a3",
   "metadata": {
    "scrolled": true
   },
   "outputs": [
    {
     "name": "stderr",
     "output_type": "stream",
     "text": [
      "\n",
      "WARNING: apt does not have a stable CLI interface. Use with caution in scripts.\n",
      "\n",
      "\n",
      "WARNING: apt does not have a stable CLI interface. Use with caution in scripts.\n",
      "\n",
      "\n",
      "WARNING: apt does not have a stable CLI interface. Use with caution in scripts.\n",
      "\n",
      "\n",
      "WARNING: apt does not have a stable CLI interface. Use with caution in scripts.\n",
      "\n",
      "\n",
      "WARNING: apt does not have a stable CLI interface. Use with caution in scripts.\n",
      "\n",
      "\n",
      "WARNING: apt does not have a stable CLI interface. Use with caution in scripts.\n",
      "\n",
      "\n",
      "WARNING: apt does not have a stable CLI interface. Use with caution in scripts.\n",
      "\n",
      "\n",
      "WARNING: apt does not have a stable CLI interface. Use with caution in scripts.\n",
      "\n",
      "fatal: destination path 'NuRaft' already exists and is not an empty directory.\n",
      "fatal: destination path 'NuRaft' already exists and is not an empty directory.\n",
      "fatal: destination path 'NuRaft' already exists and is not an empty directory.\n"
     ]
    },
    {
     "name": "stdout",
     "output_type": "stream",
     "text": [
      "[None, None, None, None]\n"
     ]
    },
    {
     "name": "stderr",
     "output_type": "stream",
     "text": [
      "fatal: destination path 'NuRaft' already exists and is not an empty directory.\n"
     ]
    }
   ],
   "source": [
    "results = Parallel(n_jobs=60)(delayed(setup_remote)(i) for i in range(len(iplist)) )\n",
    "\n",
    "\n",
    "print(results)  "
   ]
  },
  {
   "cell_type": "code",
   "execution_count": 34,
   "id": "ff32de8b-d2be-493d-ac2c-0b47fbc89a17",
   "metadata": {},
   "outputs": [],
   "source": [
    "\n",
    "def compile_remote(i):\n",
    "\n",
    "  \n",
    "\n",
    "\n",
    "    command = 'gcloud compute ssh --zone \"'+'us-central1-c'+'\" \"nuraft-'+f\"{i:03}\"+'\" --project \"ucr-ursa-major-lesani-lab\" --command \"\\\n",
    "    cd NuRaft; \\\n",
    "    ./prepare.sh; cp CMakeListsUbuntu.txt CMakeLists.txt;\\\n",
    "    mkdir build; cd build; cmake .. ; make -j4 > make.log;\"'\n",
    "\n",
    "    print(command)\n",
    "\n",
    "    output = os.system(command)\n",
    "    print(output)\n",
    "\n"
   ]
  },
  {
   "cell_type": "code",
   "execution_count": 35,
   "id": "cc62bae2-6168-46dd-85b0-606a6e64367c",
   "metadata": {},
   "outputs": [
    {
     "name": "stderr",
     "output_type": "stream",
     "text": [
      "+ . manifest.sh\n",
      "++ ASIO_RELEASE=asio-1-24-0\n",
      "++ pwd\n",
      "+ PROJECT_DIR=/home/tejas/NuRaft\n",
      "+ cd /home/tejas/NuRaft\n",
      "+ '[' '!' -d asio/asio ']'\n",
      "+ git clone https://github.com/chriskohlhoff/asio.git ./asio\n",
      "Cloning into './asio'...\n",
      "+ . manifest.sh\n",
      "++ ASIO_RELEASE=asio-1-24-0\n",
      "++ pwd\n",
      "+ PROJECT_DIR=/home/tejas/NuRaft\n",
      "+ cd /home/tejas/NuRaft\n",
      "+ '[' '!' -d asio/asio ']'\n",
      "+ git clone https://github.com/chriskohlhoff/asio.git ./asio\n",
      "Cloning into './asio'...\n",
      "+ . manifest.sh\n",
      "++ ASIO_RELEASE=asio-1-24-0\n",
      "++ pwd\n",
      "+ PROJECT_DIR=/home/tejas/NuRaft\n",
      "+ cd /home/tejas/NuRaft\n",
      "+ '[' '!' -d asio/asio ']'\n",
      "+ git clone https://github.com/chriskohlhoff/asio.git ./asio\n",
      "Cloning into './asio'...\n",
      "+ . manifest.sh\n",
      "++ ASIO_RELEASE=asio-1-24-0\n",
      "++ pwd\n",
      "+ PROJECT_DIR=/home/tejas/NuRaft\n",
      "+ cd /home/tejas/NuRaft\n",
      "+ '[' '!' -d asio/asio ']'\n",
      "+ git clone https://github.com/chriskohlhoff/asio.git ./asio\n",
      "Cloning into './asio'...\n",
      "+ cd asio\n",
      "+ git checkout asio-1-24-0\n",
      "Note: switching to 'asio-1-24-0'.\n",
      "\n",
      "You are in 'detached HEAD' state. You can look around, make experimental\n",
      "changes and commit them, and you can discard any commits you make in this\n",
      "state without impacting any branches by switching back to a branch.\n",
      "\n",
      "If you want to create a new branch to retain commits you create, you may\n",
      "do so (now or later) by using -c with the switch command. Example:\n",
      "\n",
      "  git switch -c <new-branch-name>\n",
      "\n",
      "Or undo this operation with:\n",
      "\n",
      "  git switch -\n",
      "\n",
      "Turn off this advice by setting config variable advice.detachedHead to false\n",
      "\n",
      "HEAD is now at 147f7225a asio version 1.24.0 released\n",
      "+ cd ..\n",
      "+ cd asio\n",
      "+ git checkout asio-1-24-0\n",
      "+ cd asio\n",
      "+ git checkout asio-1-24-0\n"
     ]
    },
    {
     "name": "stdout",
     "output_type": "stream",
     "text": [
      "-- The CXX compiler identification is GNU 14.2.0\n",
      "-- Detecting CXX compiler ABI info\n",
      "-- Detecting CXX compiler ABI info - done\n",
      "-- Check for working CXX compiler: /usr/bin/c++ - skipped\n",
      "-- Detecting CXX compile features\n",
      "-- Detecting CXX compile features - done\n",
      "-- Found PkgConfig: /usr/bin/pkg-config (found version \"1.8.1\")\n",
      "-- Checking for module 'libzstd'\n",
      "--   Found libzstd, version 1.5.6\n"
     ]
    },
    {
     "name": "stderr",
     "output_type": "stream",
     "text": [
      "Note: switching to 'asio-1-24-0'.\n",
      "\n",
      "You are in 'detached HEAD' state. You can look around, make experimental\n",
      "changes and commit them, and you can discard any commits you make in this\n",
      "state without impacting any branches by switching back to a branch.\n",
      "\n",
      "If you want to create a new branch to retain commits you create, you may\n",
      "do so (now or later) by using -c with the switch command. Example:\n",
      "\n",
      "  git switch -c <new-branch-name>\n",
      "\n",
      "Or undo this operation with:\n",
      "\n",
      "  git switch -\n",
      "\n",
      "Turn off this advice by setting config variable advice.detachedHead to false\n",
      "\n",
      "HEAD is now at 147f7225a asio version 1.24.0 released\n",
      "+ cd ..\n",
      "Note: switching to 'asio-1-24-0'.\n",
      "\n",
      "You are in 'detached HEAD' state. You can look around, make experimental\n",
      "changes and commit them, and you can discard any commits you make in this\n",
      "state without impacting any branches by switching back to a branch.\n",
      "\n",
      "If you want to create a new branch to retain commits you create, you may\n",
      "do so (now or later) by using -c with the switch command. Example:\n",
      "\n",
      "  git switch -c <new-branch-name>\n",
      "\n",
      "Or undo this operation with:\n",
      "\n",
      "  git switch -\n",
      "\n",
      "Turn off this advice by setting config variable advice.detachedHead to false\n",
      "\n",
      "HEAD is now at 147f7225a asio version 1.24.0 released\n",
      "+ cd ..\n",
      "+ cd asio\n",
      "+ git checkout asio-1-24-0\n"
     ]
    },
    {
     "name": "stdout",
     "output_type": "stream",
     "text": [
      "-- C++ Standard: 11\n",
      "-- Build type: RelWithDebInfo\n",
      "-- Build Install Prefix : /usr/local\n",
      "-- The CXX compiler identification is GNU 14.2.0\n",
      "-- Detecting CXX compiler ABI info\n",
      "-- The CXX compiler identification is GNU 14.2.0\n",
      "-- Detecting CXX compiler ABI info\n",
      "-- Found ZLIB: /usr/lib/x86_64-linux-gnu/libz.a (found version \"1.3.1\")\n",
      "-- Performing Test CMAKE_HAVE_LIBC_PTHREAD\n",
      "-- Detecting CXX compiler ABI info - done\n",
      "-- Detecting CXX compiler ABI info - done\n",
      "-- Check for working CXX compiler: /usr/bin/c++ - skipped\n",
      "-- Detecting CXX compile features\n",
      "-- Detecting CXX compile features - done\n",
      "-- Check for working CXX compiler: /usr/bin/c++ - skipped\n",
      "-- Detecting CXX compile features\n",
      "-- Detecting CXX compile features - done\n",
      "-- Found PkgConfig: /usr/bin/pkg-config (found version \"1.8.1\")\n",
      "-- Checking for module 'libzstd'\n",
      "-- Found PkgConfig: /usr/bin/pkg-config (found version \"1.8.1\")\n",
      "-- Checking for module 'libzstd'\n",
      "--   Found libzstd, version 1.5.6\n",
      "--   Found libzstd, version 1.5.6\n",
      "-- Performing Test CMAKE_HAVE_LIBC_PTHREAD - Success\n",
      "-- Found Threads: TRUE\n",
      "-- C++ Standard: 11\n",
      "-- Build type: RelWithDebInfo\n",
      "-- Build Install Prefix : /usr/local\n",
      "-- Configuring done (0.6s)\n",
      "-- C++ Standard: 11\n",
      "-- Build type: RelWithDebInfo\n",
      "-- Build Install Prefix : /usr/local\n",
      "-- Generating done (0.1s)\n",
      "-- Build files have been written to: /home/tejas/NuRaft/build\n",
      "-- Found ZLIB: /usr/lib/x86_64-linux-gnu/libz.a (found version \"1.3.1\")\n",
      "-- Performing Test CMAKE_HAVE_LIBC_PTHREAD\n",
      "-- Found ZLIB: /usr/lib/x86_64-linux-gnu/libz.a (found version \"1.3.1\")\n",
      "-- Performing Test CMAKE_HAVE_LIBC_PTHREAD\n",
      "-- The CXX compiler identification is GNU 14.2.0\n",
      "-- Detecting CXX compiler ABI info\n"
     ]
    },
    {
     "name": "stderr",
     "output_type": "stream",
     "text": [
      "Note: switching to 'asio-1-24-0'.\n",
      "\n",
      "You are in 'detached HEAD' state. You can look around, make experimental\n",
      "changes and commit them, and you can discard any commits you make in this\n",
      "state without impacting any branches by switching back to a branch.\n",
      "\n",
      "If you want to create a new branch to retain commits you create, you may\n",
      "do so (now or later) by using -c with the switch command. Example:\n",
      "\n",
      "  git switch -c <new-branch-name>\n",
      "\n",
      "Or undo this operation with:\n",
      "\n",
      "  git switch -\n",
      "\n",
      "Turn off this advice by setting config variable advice.detachedHead to false\n",
      "\n",
      "HEAD is now at 147f7225a asio version 1.24.0 released\n",
      "+ cd ..\n"
     ]
    },
    {
     "name": "stdout",
     "output_type": "stream",
     "text": [
      "-- Performing Test CMAKE_HAVE_LIBC_PTHREAD - Success\n",
      "-- Found Threads: TRUE\n",
      "-- Configuring done (0.5s)\n",
      "-- Detecting CXX compiler ABI info - done\n",
      "-- Check for working CXX compiler: /usr/bin/c++ - skipped\n",
      "-- Detecting CXX compile features\n",
      "-- Detecting CXX compile features - done\n",
      "-- Performing Test CMAKE_HAVE_LIBC_PTHREAD - Success\n",
      "-- Found Threads: TRUE\n",
      "-- Configuring done (0.6s)\n",
      "-- Found PkgConfig: /usr/bin/pkg-config (found version \"1.8.1\")\n",
      "-- Checking for module 'libzstd'\n",
      "-- Generating done (0.1s)\n",
      "-- Build files have been written to: /home/tejas/NuRaft/build\n",
      "--   Found libzstd, version 1.5.6\n",
      "-- Generating done (0.1s)\n",
      "-- Build files have been written to: /home/tejas/NuRaft/build\n",
      "-- C++ Standard: 11\n",
      "-- Build type: RelWithDebInfo\n",
      "-- Build Install Prefix : /usr/local\n",
      "-- Found ZLIB: /usr/lib/x86_64-linux-gnu/libz.a (found version \"1.3.1\")\n",
      "-- Performing Test CMAKE_HAVE_LIBC_PTHREAD\n",
      "-- Performing Test CMAKE_HAVE_LIBC_PTHREAD - Success\n",
      "-- Found Threads: TRUE\n",
      "-- Configuring done (0.7s)\n",
      "-- Generating done (0.1s)\n",
      "-- Build files have been written to: /home/tejas/NuRaft/build\n"
     ]
    },
    {
     "name": "stderr",
     "output_type": "stream",
     "text": [
      "/home/tejas/NuRaft/src/raft_server.cxx: In member function ‘void nuraft::raft_server::handle_peer_resp(nuraft::ptr<nuraft::resp_msg>&, nuraft::ptr<nuraft::rpc_exception>&)’:\n",
      "/home/tejas/NuRaft/src/raft_server.cxx:840:28: warning: unused variable ‘rc’ [-Wunused-variable]\n",
      "  840 |                 const auto rc = ctx_->cb_func_.call(cb_func::FollowerLost, &param);\n",
      "      |                            ^~\n",
      "/home/tejas/NuRaft/src/raft_server.cxx: In member function ‘bool nuraft::raft_server::check_leadership_validity()’:\n",
      "/home/tejas/NuRaft/src/raft_server.cxx:1159:24: warning: unused variable ‘rc’ [-Wunused-variable]\n",
      " 1159 |             const auto rc = ctx_->cb_func_.call(cb_func::FollowerLost, &param);\n",
      "      |                        ^~\n",
      "/home/tejas/NuRaft/src/raft_server.cxx: In member function ‘void nuraft::raft_server::handle_peer_resp(nuraft::ptr<nuraft::resp_msg>&, nuraft::ptr<nuraft::rpc_exception>&)’:\n",
      "/home/tejas/NuRaft/src/raft_server.cxx:840:28: warning: unused variable ‘rc’ [-Wunused-variable]\n",
      "  840 |                 const auto rc = ctx_->cb_func_.call(cb_func::FollowerLost, &param);\n",
      "      |                            ^~\n",
      "/home/tejas/NuRaft/src/raft_server.cxx: In member function ‘bool nuraft::raft_server::check_leadership_validity()’:\n",
      "/home/tejas/NuRaft/src/raft_server.cxx:1159:24: warning: unused variable ‘rc’ [-Wunused-variable]\n",
      " 1159 |             const auto rc = ctx_->cb_func_.call(cb_func::FollowerLost, &param);\n",
      "      |                        ^~\n",
      "/home/tejas/NuRaft/src/raft_server.cxx: In member function ‘void nuraft::raft_server::handle_peer_resp(nuraft::ptr<nuraft::resp_msg>&, nuraft::ptr<nuraft::rpc_exception>&)’:\n",
      "/home/tejas/NuRaft/src/raft_server.cxx:840:28: warning: unused variable ‘rc’ [-Wunused-variable]\n",
      "  840 |                 const auto rc = ctx_->cb_func_.call(cb_func::FollowerLost, &param);\n",
      "      |                            ^~\n",
      "/home/tejas/NuRaft/src/raft_server.cxx: In member function ‘bool nuraft::raft_server::check_leadership_validity()’:\n",
      "/home/tejas/NuRaft/src/raft_server.cxx:1159:24: warning: unused variable ‘rc’ [-Wunused-variable]\n",
      " 1159 |             const auto rc = ctx_->cb_func_.call(cb_func::FollowerLost, &param);\n",
      "      |                        ^~\n",
      "/home/tejas/NuRaft/src/raft_server.cxx: In member function ‘void nuraft::raft_server::handle_peer_resp(nuraft::ptr<nuraft::resp_msg>&, nuraft::ptr<nuraft::rpc_exception>&)’:\n",
      "/home/tejas/NuRaft/src/raft_server.cxx:840:28: warning: unused variable ‘rc’ [-Wunused-variable]\n",
      "  840 |                 const auto rc = ctx_->cb_func_.call(cb_func::FollowerLost, &param);\n",
      "      |                            ^~\n",
      "/home/tejas/NuRaft/src/raft_server.cxx: In member function ‘bool nuraft::raft_server::check_leadership_validity()’:\n",
      "/home/tejas/NuRaft/src/raft_server.cxx:1159:24: warning: unused variable ‘rc’ [-Wunused-variable]\n",
      " 1159 |             const auto rc = ctx_->cb_func_.call(cb_func::FollowerLost, &param);\n",
      "      |                        ^~\n",
      "In file included from /home/tejas/NuRaft/examples/set_ops/set_server.cxx:18:\n",
      "/home/tejas/NuRaft/examples/set_ops/set_state_machine.hxx: In member function ‘virtual nuraft::ptr<nuraft::buffer> set_state_machine::commit(ulong, nuraft::buffer&)’:\n",
      "/home/tejas/NuRaft/examples/set_ops/set_state_machine.hxx:67:14: warning: unused variable ‘parse_result’ [-Wunused-variable]\n",
      "   67 |         bool parse_result = static_cast<bool>(iss >> command);\n",
      "      |              ^~~~~~~~~~~~\n",
      "In file included from /home/tejas/NuRaft/examples/stack_ops/stack_server.cxx:18:\n",
      "/home/tejas/NuRaft/examples/stack_ops/stack_state_machine.hxx: In member function ‘virtual nuraft::ptr<nuraft::buffer> stack_state_machine::commit(ulong, nuraft::buffer&)’:\n",
      "/home/tejas/NuRaft/examples/stack_ops/stack_state_machine.hxx:68:14: warning: unused variable ‘parse_result’ [-Wunused-variable]\n",
      "   68 |         bool parse_result = static_cast<bool>(iss >> command);\n",
      "      |              ^~~~~~~~~~~~\n",
      "In file included from /home/tejas/NuRaft/examples/set_ops/set_server.cxx:18:\n",
      "/home/tejas/NuRaft/examples/set_ops/set_state_machine.hxx: In member function ‘virtual nuraft::ptr<nuraft::buffer> set_state_machine::commit(ulong, nuraft::buffer&)’:\n",
      "/home/tejas/NuRaft/examples/set_ops/set_state_machine.hxx:67:14: warning: unused variable ‘parse_result’ [-Wunused-variable]\n",
      "   67 |         bool parse_result = static_cast<bool>(iss >> command);\n",
      "      |              ^~~~~~~~~~~~\n",
      "In file included from /home/tejas/NuRaft/examples/stack_ops/stack_server.cxx:18:\n",
      "/home/tejas/NuRaft/examples/stack_ops/stack_state_machine.hxx: In member function ‘virtual nuraft::ptr<nuraft::buffer> stack_state_machine::commit(ulong, nuraft::buffer&)’:\n",
      "/home/tejas/NuRaft/examples/stack_ops/stack_state_machine.hxx:68:14: warning: unused variable ‘parse_result’ [-Wunused-variable]\n",
      "   68 |         bool parse_result = static_cast<bool>(iss >> command);\n",
      "      |              ^~~~~~~~~~~~\n",
      "In file included from /home/tejas/NuRaft/examples/set_ops/set_server.cxx:18:\n",
      "/home/tejas/NuRaft/examples/set_ops/set_state_machine.hxx: In member function ‘virtual nuraft::ptr<nuraft::buffer> set_state_machine::commit(ulong, nuraft::buffer&)’:\n",
      "/home/tejas/NuRaft/examples/set_ops/set_state_machine.hxx:67:14: warning: unused variable ‘parse_result’ [-Wunused-variable]\n",
      "   67 |         bool parse_result = static_cast<bool>(iss >> command);\n",
      "      |              ^~~~~~~~~~~~\n",
      "In file included from /home/tejas/NuRaft/examples/stack_ops/stack_server.cxx:18:\n",
      "/home/tejas/NuRaft/examples/stack_ops/stack_state_machine.hxx: In member function ‘virtual nuraft::ptr<nuraft::buffer> stack_state_machine::commit(ulong, nuraft::buffer&)’:\n",
      "/home/tejas/NuRaft/examples/stack_ops/stack_state_machine.hxx:68:14: warning: unused variable ‘parse_result’ [-Wunused-variable]\n",
      "   68 |         bool parse_result = static_cast<bool>(iss >> command);\n",
      "      |              ^~~~~~~~~~~~\n",
      "In file included from /home/tejas/NuRaft/examples/set_ops/set_server.cxx:18:\n",
      "/home/tejas/NuRaft/examples/set_ops/set_state_machine.hxx: In member function ‘virtual nuraft::ptr<nuraft::buffer> set_state_machine::commit(ulong, nuraft::buffer&)’:\n",
      "/home/tejas/NuRaft/examples/set_ops/set_state_machine.hxx:67:14: warning: unused variable ‘parse_result’ [-Wunused-variable]\n",
      "   67 |         bool parse_result = static_cast<bool>(iss >> command);\n",
      "      |              ^~~~~~~~~~~~\n",
      "In file included from /home/tejas/NuRaft/examples/stack_ops/stack_server.cxx:18:\n",
      "/home/tejas/NuRaft/examples/stack_ops/stack_state_machine.hxx: In member function ‘virtual nuraft::ptr<nuraft::buffer> stack_state_machine::commit(ulong, nuraft::buffer&)’:\n",
      "/home/tejas/NuRaft/examples/stack_ops/stack_state_machine.hxx:68:14: warning: unused variable ‘parse_result’ [-Wunused-variable]\n",
      "   68 |         bool parse_result = static_cast<bool>(iss >> command);\n",
      "      |              ^~~~~~~~~~~~\n"
     ]
    },
    {
     "name": "stdout",
     "output_type": "stream",
     "text": [
      "[None, None, None, None]\n"
     ]
    }
   ],
   "source": [
    "results = Parallel(n_jobs=60)(delayed(compile_remote)(i) for i in range(len(iplist)) )\n",
    "\n",
    "\n",
    "print(results)  "
   ]
  },
  {
   "cell_type": "code",
   "execution_count": 36,
   "id": "3dd26dd4-b196-4367-b368-a58cb0ebb8f6",
   "metadata": {},
   "outputs": [],
   "source": [
    "\n",
    "# def git_pull(i):\n",
    "\n",
    "  \n",
    "\n",
    "\n",
    "#     command = 'gcloud compute ssh --zone \"'+'us-central1-c'+'\" \"nuraft-'+f\"{i:03}\"+'\" --project \"ucr-ursa-major-lesani-lab\" --command \"\\\n",
    "#     cd NuRaft; \\\n",
    "#     git pull;\"'\n",
    "\n",
    "#     print(command)\n",
    "\n",
    "#     output = os.system(command)\n",
    "#     print(output)\n",
    "\n",
    "# results = Parallel(n_jobs=60)(delayed(git_pull)(i) for i in range(len(iplist)) )\n"
   ]
  },
  {
   "cell_type": "code",
   "execution_count": 38,
   "id": "cbb65680-4502-490b-8bc6-b12b3ca13b55",
   "metadata": {},
   "outputs": [],
   "source": [
    "# results = Parallel(n_jobs=60)(delayed(compile_remote)(i) for i in range(len(iplist)) )\n",
    "\n",
    "\n",
    "# print(results)  "
   ]
  },
  {
   "cell_type": "code",
   "execution_count": 39,
   "id": "97e7182a-c12a-446e-ae6a-86537ce4b890",
   "metadata": {},
   "outputs": [],
   "source": [
    "def run_project_server(i):\n",
    "    instance = f\"nuraft-{i:03}\"\n",
    "    ip = iplist[i]\n",
    "    session_name = f\"server{i}\"\n",
    "    log_file = f\"/home/tejas/NuRaft/build/examples/set_server{i}.log\"\n",
    "    command = f'''\n",
    "    gcloud compute ssh --zone \"us-central1-c\" \"{instance}\" --project \"ucr-ursa-major-lesani-lab\" --command \"\\\n",
    "    cd NuRaft/build/examples; \\\n",
    "    screen -dmS {session_name} bash -c './set_server {i+1} {ip}:10001 > {log_file} 2>&1'\"\n",
    "    '''\n",
    "    print(f\"Launching on instance {instance}\")\n",
    "    output = os.system(command)\n",
    "    print(f\"Return code: {output}\")\n",
    "\n",
    "\n",
    "\n",
    "\n",
    "# Run in parallel across all IPs\n",
    "# results = Parallel(n_jobs=60)(delayed(run_project_server)(i) for i in [0,1,2])\n"
   ]
  },
  {
   "cell_type": "code",
   "execution_count": 40,
   "id": "0647ce41-7856-40a3-b7b2-9d2e5436f9fb",
   "metadata": {},
   "outputs": [
    {
     "name": "stdout",
     "output_type": "stream",
     "text": [
      "Launching on instance nuraft-001\n",
      "Return code: 0\n",
      "Launching on instance nuraft-002\n",
      "Return code: 0\n",
      "Launching on instance nuraft-003\n",
      "Return code: 0\n"
     ]
    }
   ],
   "source": [
    "# results = Parallel(n_jobs=60)(delayed(run_project_server)(i) for i in [0])\n",
    "for i in range(num_nodes-1):\n",
    "    run_project_server(i+1)\n",
    "\n",
    "    \n"
   ]
  },
  {
   "cell_type": "code",
   "execution_count": 41,
   "id": "1c8f7d0f-0e53-4dea-a8c6-25d979fe085b",
   "metadata": {
    "scrolled": true
   },
   "outputs": [
    {
     "name": "stdout",
     "output_type": "stream",
     "text": [
      "Launching on instance nuraft-000\n",
      "Return code: 0\n",
      "gcloud compute ssh --zone \"us-central1-c\" \"nuraft-001\" --project \"ucr-ursa-major-lesani-lab\" --command \"    sudo apt update > /dev/null;     sudo apt -y install build-essential git cmake openssl libssl-dev libz-dev pkg-config libzstd-dev screen psmisc > /dev/null;    git clone https://github.com/tejas-shivanand-mane/NuRaft.git\"\n",
      "0\n",
      "gcloud compute ssh --zone \"us-central1-c\" \"nuraft-002\" --project \"ucr-ursa-major-lesani-lab\" --command \"    sudo apt update > /dev/null;     sudo apt -y install build-essential git cmake openssl libssl-dev libz-dev pkg-config libzstd-dev screen psmisc > /dev/null;    git clone https://github.com/tejas-shivanand-mane/NuRaft.git\"\n",
      "0\n",
      "gcloud compute ssh --zone \"us-central1-c\" \"nuraft-000\" --project \"ucr-ursa-major-lesani-lab\" --command \"    sudo apt update > /dev/null;     sudo apt -y install build-essential git cmake openssl libssl-dev libz-dev pkg-config libzstd-dev screen psmisc > /dev/null;    git clone https://github.com/tejas-shivanand-mane/NuRaft.git\"\n",
      "0\n",
      "gcloud compute ssh --zone \"us-central1-c\" \"nuraft-003\" --project \"ucr-ursa-major-lesani-lab\" --command \"    sudo apt update > /dev/null;     sudo apt -y install build-essential git cmake openssl libssl-dev libz-dev pkg-config libzstd-dev screen psmisc > /dev/null;    git clone https://github.com/tejas-shivanand-mane/NuRaft.git\"\n",
      "0\n",
      "gcloud compute ssh --zone \"us-central1-c\" \"nuraft-003\" --project \"ucr-ursa-major-lesani-lab\" --command \"    sudo apt update > setup.log;     sudo apt -y install build-essential git cmake openssl libssl-dev libz-dev pkg-config libzstd-dev screen psmisc > setup.log;    git clone https://github.com/tejas-shivanand-mane/NuRaft.git\"\n",
      "32768\n",
      "gcloud compute ssh --zone \"us-central1-c\" \"nuraft-002\" --project \"ucr-ursa-major-lesani-lab\" --command \"    sudo apt update > setup.log;     sudo apt -y install build-essential git cmake openssl libssl-dev libz-dev pkg-config libzstd-dev screen psmisc > setup.log;    git clone https://github.com/tejas-shivanand-mane/NuRaft.git\"\n",
      "32768\n",
      "gcloud compute ssh --zone \"us-central1-c\" \"nuraft-001\" --project \"ucr-ursa-major-lesani-lab\" --command \"    sudo apt update > setup.log;     sudo apt -y install build-essential git cmake openssl libssl-dev libz-dev pkg-config libzstd-dev screen psmisc > setup.log;    git clone https://github.com/tejas-shivanand-mane/NuRaft.git\"\n",
      "32768\n",
      "gcloud compute ssh --zone \"us-central1-c\" \"nuraft-000\" --project \"ucr-ursa-major-lesani-lab\" --command \"    sudo apt update > setup.log;     sudo apt -y install build-essential git cmake openssl libssl-dev libz-dev pkg-config libzstd-dev screen psmisc > setup.log;    git clone https://github.com/tejas-shivanand-mane/NuRaft.git\"\n",
      "32768\n"
     ]
    }
   ],
   "source": [
    "run_project_server(0)\n"
   ]
  },
  {
   "cell_type": "code",
   "execution_count": 42,
   "id": "e6047998-59bf-4c0f-80f6-156ca4733da0",
   "metadata": {},
   "outputs": [],
   "source": [
    "def kill_project_server(i):\n",
    "    instance = f\"nuraft-{i:03}\"\n",
    "    session_name = f\"server{i}\"\n",
    "    command = f'''\n",
    "    gcloud compute ssh --zone \"us-central1-c\" \"{instance}\" --project \"ucr-ursa-major-lesani-lab\" --command \"\\\n",
    "    screen -S {session_name} -X quit\"\n",
    "    '''\n",
    "    print(f\"Killing server on instance {instance}\")\n",
    "    output = os.system(command)\n",
    "    print(f\"Return code: {output}\")\n",
    "\n",
    "results = Parallel(n_jobs=60)(delayed(kill_project_server)(i) for i in range(len(iplist)) )\n"
   ]
  },
  {
   "cell_type": "code",
   "execution_count": 43,
   "id": "80b2052d-fe6f-4e46-b9e8-fac66af01454",
   "metadata": {},
   "outputs": [
    {
     "name": "stdout",
     "output_type": "stream",
     "text": [
      "Copying log from nuraft-000 to ../nuraft_logs/set_4nodes/set_server0.log ...\n",
      "Return code: 0\n",
      "Copying log from nuraft-001 to ../nuraft_logs/set_4nodes/set_server1.log ...\n",
      "Return code: 0\n",
      "Copying log from nuraft-002 to ../nuraft_logs/set_4nodes/set_server2.log ...\n",
      "Return code: 0\n",
      "Copying log from nuraft-003 to ../nuraft_logs/set_4nodes/set_server3.log ...\n",
      "Return code: 0\n"
     ]
    }
   ],
   "source": [
    "def copy_logs_to_local(i, local_dir=\"../nuraft_logs/\"+experiment):\n",
    "\n",
    "    if not os.path.exists(\"../nuraft_logs/\"+experiment):\n",
    "        os.mkdir(\"../nuraft_logs/\"+experiment)\n",
    "        \n",
    "    instance = f\"nuraft-{i:03}\"\n",
    "    remote_path = f\"/home/tejas/NuRaft/build/examples/set_server{i}.log\"\n",
    "    local_path = f\"{local_dir}/set_server{i}.log\"\n",
    "    \n",
    "    # Make sure local directory exists\n",
    "    os.makedirs(local_dir, exist_ok=True)\n",
    "    \n",
    "    command = f'gcloud compute scp --zone \"us-central1-c\" \"{instance}:{remote_path}\" \"{local_path}\" --project \"ucr-ursa-major-lesani-lab\"'\n",
    "    \n",
    "    print(f\"Copying log from {instance} to {local_path} ...\")\n",
    "    ret = os.system(command)\n",
    "    print(f\"Return code: {ret}\")\n",
    "\n",
    "# Example usage: copy logs for servers 0, 1, 2\n",
    "for i in range(num_nodes):\n",
    "    copy_logs_to_local(i)"
   ]
  },
  {
   "cell_type": "code",
   "execution_count": 44,
   "id": "3a7237a9-3a5d-42db-ae77-586dc3996582",
   "metadata": {},
   "outputs": [
    {
     "name": "stderr",
     "output_type": "stream",
     "text": [
      "Deleted [https://www.googleapis.com/compute/v1/projects/ucr-ursa-major-lesani-lab/zones/us-central1-c/instances/nuraft-000].\n",
      "Deleted [https://www.googleapis.com/compute/v1/projects/ucr-ursa-major-lesani-lab/zones/us-central1-c/instances/nuraft-001].\n",
      "Deleted [https://www.googleapis.com/compute/v1/projects/ucr-ursa-major-lesani-lab/zones/us-central1-c/instances/nuraft-002].\n",
      "Deleted [https://www.googleapis.com/compute/v1/projects/ucr-ursa-major-lesani-lab/zones/us-central1-c/instances/nuraft-003].\n"
     ]
    },
    {
     "data": {
      "text/plain": [
       "0"
      ]
     },
     "execution_count": 44,
     "metadata": {},
     "output_type": "execute_result"
    },
    {
     "name": "stdout",
     "output_type": "stream",
     "text": [
      "gcloud compute ssh --zone \"us-central1-c\" \"nuraft-000\" --project \"ucr-ursa-major-lesani-lab\" --command \"    cd NuRaft;     ./prepare.sh; cp CMakeListsUbuntu.txt CMakeLists.txt;    mkdir build; cd build; cmake .. ; make -j4 > make.log;\"\n",
      "0\n",
      "Killing server on instance nuraft-003\n",
      "Return code: 0\n",
      "gcloud compute ssh --zone \"us-central1-c\" \"nuraft-001\" --project \"ucr-ursa-major-lesani-lab\" --command \"    cd NuRaft;     ./prepare.sh; cp CMakeListsUbuntu.txt CMakeLists.txt;    mkdir build; cd build; cmake .. ; make -j4 > make.log;\"\n",
      "0\n",
      "Killing server on instance nuraft-002\n",
      "Return code: 0\n",
      "gcloud compute ssh --zone \"us-central1-c\" \"nuraft-003\" --project \"ucr-ursa-major-lesani-lab\" --command \"    cd NuRaft;     ./prepare.sh; cp CMakeListsUbuntu.txt CMakeLists.txt;    mkdir build; cd build; cmake .. ; make -j4 > make.log;\"\n",
      "0\n",
      "Killing server on instance nuraft-000\n",
      "Return code: 0\n",
      "gcloud compute ssh --zone \"us-central1-c\" \"nuraft-002\" --project \"ucr-ursa-major-lesani-lab\" --command \"    cd NuRaft;     ./prepare.sh; cp CMakeListsUbuntu.txt CMakeLists.txt;    mkdir build; cd build; cmake .. ; make -j4 > make.log;\"\n",
      "0\n",
      "Killing server on instance nuraft-001\n",
      "Return code: 0\n"
     ]
    }
   ],
   "source": [
    "\n",
    "os.system('gcloud compute instances delete --zone=us-central1-c --quiet $(gcloud compute instances list --format=\"value(name)\")')\n"
   ]
  },
  {
   "cell_type": "code",
   "execution_count": null,
   "id": "3ab61392-4f69-4912-8faf-9761170971a4",
   "metadata": {},
   "outputs": [],
   "source": []
  }
 ],
 "metadata": {
  "kernelspec": {
   "display_name": "Python 3 (ipykernel)",
   "language": "python",
   "name": "python3"
  },
  "language_info": {
   "codemirror_mode": {
    "name": "ipython",
    "version": 3
   },
   "file_extension": ".py",
   "mimetype": "text/x-python",
   "name": "python",
   "nbconvert_exporter": "python",
   "pygments_lexer": "ipython3",
   "version": "3.12.10"
  }
 },
 "nbformat": 4,
 "nbformat_minor": 5
}
